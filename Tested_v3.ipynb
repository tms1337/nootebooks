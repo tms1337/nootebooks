{
  "cells": [
    {
      "cell_type": "markdown",
      "metadata": {
        "id": "view-in-github",
        "colab_type": "text"
      },
      "source": [
        "<a href=\"https://colab.research.google.com/github/tms1337/nootebooks/blob/master/Tested_v3.ipynb\" target=\"_parent\"><img src=\"https://colab.research.google.com/assets/colab-badge.svg\" alt=\"Open In Colab\"/></a>"
      ]
    },
    {
      "cell_type": "code",
      "execution_count": null,
      "id": "ee477754",
      "metadata": {
        "id": "ee477754"
      },
      "outputs": [],
      "source": [
        "#!pip install matplotlib\n",
        "import pandas as pd\n",
        "import yfinance as yf\n",
        "import numpy as np\n",
        "import matplotlib.pyplot as plt"
      ]
    },
    {
      "cell_type": "code",
      "execution_count": null,
      "id": "af167ba5",
      "metadata": {
        "id": "af167ba5"
      },
      "outputs": [],
      "source": [
        "def fetch_ticker_data(tickers, start_date, end_date):\n",
        "    data = yf.download(tickers, start=start_date, end=end_date)\n",
        "    return data"
      ]
    },
    {
      "cell_type": "markdown",
      "id": "039c406f",
      "metadata": {
        "id": "039c406f"
      },
      "source": [
        "## Loading Tickers"
      ]
    },
    {
      "cell_type": "code",
      "execution_count": null,
      "id": "45cbd18a",
      "metadata": {
        "id": "45cbd18a"
      },
      "outputs": [],
      "source": [
        "df=pd.read_csv('tickers.csv')"
      ]
    },
    {
      "cell_type": "code",
      "execution_count": null,
      "id": "4a711fb5",
      "metadata": {
        "id": "4a711fb5"
      },
      "outputs": [],
      "source": [
        "tickers = df['Ticker'].tolist()"
      ]
    },
    {
      "cell_type": "markdown",
      "id": "24823bde",
      "metadata": {
        "id": "24823bde"
      },
      "source": [
        "## Fetching Tickers data"
      ]
    },
    {
      "cell_type": "code",
      "execution_count": null,
      "id": "91729702",
      "metadata": {
        "id": "91729702"
      },
      "outputs": [],
      "source": [
        "data = fetch_ticker_data(tickers, '2022-07-06', '2023-07-06')"
      ]
    },
    {
      "cell_type": "markdown",
      "id": "b5b24c3f",
      "metadata": {
        "id": "b5b24c3f"
      },
      "source": [
        "## Saving the original data"
      ]
    },
    {
      "cell_type": "code",
      "execution_count": null,
      "id": "6027aec7",
      "metadata": {
        "id": "6027aec7"
      },
      "outputs": [],
      "source": [
        "data.to_csv('original_data.csv')"
      ]
    },
    {
      "cell_type": "code",
      "execution_count": null,
      "id": "4fda5fc3",
      "metadata": {
        "id": "4fda5fc3"
      },
      "outputs": [],
      "source": [
        "data.head(10)"
      ]
    },
    {
      "cell_type": "markdown",
      "id": "1ce493a2",
      "metadata": {
        "id": "1ce493a2"
      },
      "source": [
        "## Synthetic data"
      ]
    },
    {
      "cell_type": "code",
      "execution_count": null,
      "id": "5a7eda2e",
      "metadata": {
        "id": "5a7eda2e"
      },
      "outputs": [],
      "source": [
        "# def generate_synthetic_data(df):\n",
        "#     # Define the window size for calculating rolling standard deviation\n",
        "#     window_size = 11\n",
        "\n",
        "#     # Copy the dataframe\n",
        "#     synthetic_df = df.copy()\n",
        "\n",
        "#     # Loop through each column in the dataframe\n",
        "#     for column in synthetic_df.columns:\n",
        "\n",
        "#         # Calculate the rolling standard deviation for the current column\n",
        "#         std_dev = synthetic_df[column].rolling(window_size).std()\n",
        "\n",
        "#         # Create a series of random numbers between -1 and 1\n",
        "#         random_series = np.random.uniform(low=-1, high=1, size=len(synthetic_df[column]))\n",
        "\n",
        "#         # Generate synthetic data by multiplying original data with the standard deviation and random number\n",
        "#         synthetic_df[column] = synthetic_df[column] + (0.01 + std_dev * random_series)\n",
        "\n",
        "#     return synthetic_df"
      ]
    },
    {
      "cell_type": "markdown",
      "id": "4e6d224b",
      "metadata": {
        "id": "4e6d224b"
      },
      "source": [
        "## Change random range here\n"
      ]
    },
    {
      "cell_type": "code",
      "execution_count": null,
      "id": "107c8e14",
      "metadata": {
        "id": "107c8e14"
      },
      "outputs": [],
      "source": [
        "def generate_synthetic_data(df):\n",
        "    # Define the window size for calculating rolling standard deviation\n",
        "    window_size = 11\n",
        "\n",
        "    # Copy the dataframe\n",
        "    synthetic_df = df.copy()\n",
        "\n",
        "    # Generate a series of random numbers between -1 and 1 for each day\n",
        "    random_series = np.random.uniform(low=-1.0, high=1.0, size=len(synthetic_df))\n",
        "\n",
        "    # Loop through each ticker in the dataframe\n",
        "    tickers = df.columns.get_level_values(1).unique()\n",
        "    for ticker in tickers:\n",
        "        # Loop through each attribute of the ticker\n",
        "        attributes = df.columns.get_level_values(0).unique()\n",
        "        for attr in attributes:\n",
        "            # Calculate the rolling standard deviation for the current attribute of the ticker\n",
        "            std_dev = synthetic_df[(attr, ticker)].rolling(window_size).std()\n",
        "\n",
        "            # Generate synthetic data by adding to original data the product of the standard deviation and the same random number for each day\n",
        "            synthetic_df[(attr, ticker)] += 0.01 + (std_dev * random_series)\n",
        "\n",
        "    return synthetic_df\n"
      ]
    },
    {
      "cell_type": "code",
      "execution_count": null,
      "id": "4484dfee",
      "metadata": {
        "id": "4484dfee"
      },
      "outputs": [],
      "source": [
        "synthetic_data = generate_synthetic_data(data)"
      ]
    },
    {
      "cell_type": "code",
      "execution_count": null,
      "id": "200eff6f",
      "metadata": {
        "id": "200eff6f"
      },
      "outputs": [],
      "source": [
        "data.tail(5)"
      ]
    },
    {
      "cell_type": "code",
      "execution_count": null,
      "id": "c83b7b76",
      "metadata": {
        "id": "c83b7b76"
      },
      "outputs": [],
      "source": [
        "synthetic_data.tail(5)"
      ]
    },
    {
      "cell_type": "markdown",
      "id": "8b9d85f2",
      "metadata": {
        "id": "8b9d85f2"
      },
      "source": [
        "## Data Cleaning"
      ]
    },
    {
      "cell_type": "code",
      "execution_count": null,
      "id": "932815e4",
      "metadata": {
        "id": "932815e4"
      },
      "outputs": [],
      "source": [
        "synthetic_data.fillna(method='bfill',inplace=True)"
      ]
    },
    {
      "cell_type": "markdown",
      "id": "642fc65b",
      "metadata": {
        "id": "642fc65b"
      },
      "source": [
        "## Saving Synthetic data"
      ]
    },
    {
      "cell_type": "code",
      "execution_count": null,
      "id": "7a2c5ee0",
      "metadata": {
        "id": "7a2c5ee0"
      },
      "outputs": [],
      "source": [
        "synthetic_data.to_csv('synthetic_data.csv')"
      ]
    },
    {
      "cell_type": "markdown",
      "id": "96d10ca7",
      "metadata": {
        "id": "96d10ca7"
      },
      "source": [
        "### Load synthetic data file:"
      ]
    },
    {
      "cell_type": "code",
      "execution_count": null,
      "id": "a60568b4",
      "metadata": {
        "id": "a60568b4"
      },
      "outputs": [],
      "source": [
        "# Load your data (adjust path if necessary)\n",
        "synthetic_data = pd.read_csv('synthetic_data.csv', header=[0, 1], index_col=0, parse_dates=True)\n",
        "\n",
        "synthetic_data.sample(10)"
      ]
    },
    {
      "cell_type": "code",
      "execution_count": null,
      "id": "b8e9d089",
      "metadata": {
        "id": "b8e9d089"
      },
      "outputs": [],
      "source": [
        "def compare_data(df_original, df_synthetic, ticker):\n",
        "    # Define the attributes that we are interested in\n",
        "    attributes = ['Adj Close', 'Close', 'High', 'Low', 'Open', 'Volume']\n",
        "\n",
        "    # Create a new DataFrame to hold the data for the specific ticker\n",
        "    df_ticker_original = pd.DataFrame(index=df_original.index)\n",
        "    df_ticker_synthetic = pd.DataFrame(index=df_synthetic.index)\n",
        "\n",
        "    for attr in attributes:\n",
        "        # Find the start column for the specific attribute of the ticker\n",
        "        start_col_original = df_original.columns.get_loc((attr, ticker))\n",
        "        start_col_synthetic = df_synthetic.columns.get_loc((attr, ticker))\n",
        "\n",
        "        # Select the data for the specific attribute of the ticker\n",
        "        df_ticker_original[attr] = df_original.iloc[:, start_col_original]\n",
        "        df_ticker_synthetic[attr] = df_synthetic.iloc[:, start_col_synthetic]\n",
        "\n",
        "    # Ensure data types are float\n",
        "    for col in df_ticker_original.columns:\n",
        "        df_ticker_original[col] = df_ticker_original[col].astype(float)\n",
        "    for col in df_ticker_synthetic.columns:\n",
        "        df_ticker_synthetic[col] = df_ticker_synthetic[col].astype(float)\n",
        "\n",
        "    # Plot the data\n",
        "    fig, ax = plt.subplots(2, 1, figsize=(12, 8))\n",
        "\n",
        "    # Plot the closing prices\n",
        "    ax[0].plot(df_ticker_original.index, df_ticker_original['Close'], label='Original')\n",
        "    ax[0].plot(df_ticker_synthetic.index, df_ticker_synthetic['Close'], label='Synthetic')\n",
        "    ax[0].set_ylabel('Close Price')\n",
        "    ax[0].legend()\n",
        "\n",
        "    # Plot the volume\n",
        "    ax[1].bar(df_ticker_original.index, df_ticker_original['Volume'], label='Original')\n",
        "    ax[1].bar(df_ticker_synthetic.index, df_ticker_synthetic['Volume'], label='Synthetic')\n",
        "    ax[1].set_ylabel('Volume')\n",
        "    ax[1].set_yscale('log')  # Set y-axis to logarithmic scale\n",
        "    ax[1].legend()\n",
        "\n",
        "    plt.title(f'{ticker} Price and Volume')\n",
        "    plt.show()\n"
      ]
    },
    {
      "cell_type": "code",
      "execution_count": null,
      "id": "dd59ede5",
      "metadata": {
        "id": "dd59ede5"
      },
      "outputs": [],
      "source": [
        "compare_data(data, synthetic_data, 'WYNN')"
      ]
    },
    {
      "cell_type": "code",
      "execution_count": null,
      "id": "ce6e509e",
      "metadata": {
        "id": "ce6e509e"
      },
      "outputs": [],
      "source": [
        "#!pip install mpl-finance\n",
        "import mplfinance as mpf\n",
        "from mplfinance import _styles\n",
        "_styles.available_styles()"
      ]
    },
    {
      "cell_type": "code",
      "execution_count": null,
      "id": "8db7d024",
      "metadata": {
        "id": "8db7d024"
      },
      "outputs": [],
      "source": []
    },
    {
      "cell_type": "markdown",
      "id": "b1b7d643",
      "metadata": {
        "id": "b1b7d643"
      },
      "source": [
        "## ATR Calculation"
      ]
    },
    {
      "cell_type": "code",
      "execution_count": null,
      "id": "826fe6f1",
      "metadata": {
        "id": "826fe6f1"
      },
      "outputs": [],
      "source": [
        "def calculate_atr(df, n=10):\n",
        "    data = df.copy()\n",
        "    high = data[('High')]\n",
        "    low = data[('Low')]\n",
        "    close = data[('Close')]\n",
        "    data['tr0'] = abs(high - low)\n",
        "    data['tr1'] = abs(high - close.shift())\n",
        "    data['tr2'] = abs(low - close.shift())\n",
        "    tr = data[['tr0', 'tr1', 'tr2']].max(axis=1)\n",
        "    atr = tr.rolling(n).mean()\n",
        "    return atr"
      ]
    },
    {
      "cell_type": "markdown",
      "id": "c6b86371",
      "metadata": {
        "id": "c6b86371"
      },
      "source": [
        "## Data transformation\n",
        "#### Extracting out from MultiIndexer data"
      ]
    },
    {
      "cell_type": "code",
      "execution_count": null,
      "id": "834cf080",
      "metadata": {
        "id": "834cf080"
      },
      "outputs": [],
      "source": [
        "def plot_data(df, ticker):\n",
        "    # Define the attributes that we are interested in\n",
        "    attributes = ['Adj Close', 'Close', 'High', 'Low', 'Open', 'Volume']\n",
        "\n",
        "    # Create a new DataFrame to hold the data for the specific ticker\n",
        "    df_ticker = pd.DataFrame(index=df.index)\n",
        "\n",
        "    for attr in attributes:\n",
        "        # Find the start column for the specific attribute of the ticker\n",
        "        start_col = df.columns.get_loc((attr, ticker))\n",
        "\n",
        "        # Select the data for the specific attribute of the ticker\n",
        "        df_ticker[attr] = df.iloc[:, start_col]\n",
        "\n",
        "    # Ensure data types are float\n",
        "    for col in df_ticker.columns:\n",
        "        df_ticker[col] = df_ticker[col].astype(float)\n",
        "\n",
        "    # Add ATR calculation to the DataFrame\n",
        "    df_ticker['ATR'] = calculate_atr(df_ticker)\n",
        "\n",
        "    # Plot\n",
        "    mpf.plot(df_ticker,\n",
        "             type='ohlc', #candle , renko, ohlc\n",
        "             ema=(18,50),\n",
        "             volume=True,\n",
        "             figscale=1.5,\n",
        "             style='yahoo',\n",
        "             title=f'{ticker} Price')"
      ]
    },
    {
      "cell_type": "code",
      "execution_count": null,
      "id": "ae547f0a",
      "metadata": {
        "scrolled": false,
        "id": "ae547f0a"
      },
      "outputs": [],
      "source": [
        "# Test the function with your data\n",
        "plot_data(synthetic_data, 'AAPL')"
      ]
    },
    {
      "cell_type": "code",
      "execution_count": null,
      "id": "fd23ba12",
      "metadata": {
        "id": "fd23ba12"
      },
      "outputs": [],
      "source": [
        "plot_data(data, 'AAPL')"
      ]
    },
    {
      "cell_type": "code",
      "execution_count": null,
      "id": "7abf15ca",
      "metadata": {
        "id": "7abf15ca"
      },
      "outputs": [],
      "source": []
    },
    {
      "cell_type": "code",
      "execution_count": null,
      "id": "a93cfe7a",
      "metadata": {
        "id": "a93cfe7a"
      },
      "outputs": [],
      "source": [
        "import matplotlib.pyplot as plt\n",
        "from mplfinance.original_flavor import candlestick_ohlc\n",
        "import mplfinance as mpf\n",
        "\n",
        "def plot_data_with_ATR(df_original, df_synthetic, ticker):\n",
        "    # Define the attributes that we are interested in\n",
        "    attributes = ['Adj Close', 'Close', 'High', 'Low', 'Open', 'Volume']\n",
        "\n",
        "    # Create new DataFrames to hold the data for the specific ticker\n",
        "    df_ticker_original = df_original.xs(ticker, level=1, axis=1)[attributes]\n",
        "    df_ticker_synthetic = df_synthetic.xs(ticker, level=1, axis=1)[attributes]\n",
        "\n",
        "    # Add ATR calculation to the DataFrames\n",
        "    df_ticker_original['ATR'] = calculate_atr(df_ticker_original)\n",
        "    df_ticker_synthetic['ATR'] = calculate_atr(df_ticker_synthetic)\n",
        "\n",
        "    # Create subplots\n",
        "    fig, ax = plt.subplots(3, 1, sharex=True, figsize=(15, 10))\n",
        "\n",
        "    # Plot the closing prices\n",
        "    ax[0].plot(df_ticker_original.index, df_ticker_original['Close'], label='Original')\n",
        "    ax[0].plot(df_ticker_synthetic.index, df_ticker_synthetic['Close'], label='Synthetic')\n",
        "    ax[0].set_ylabel('Close Price')\n",
        "    ax[0].legend()\n",
        "\n",
        "    # Plot the volume\n",
        "    ax[1].bar(df_ticker_original.index, df_ticker_original['Volume'], label='Original')\n",
        "    ax[1].bar(df_ticker_synthetic.index, df_ticker_synthetic['Volume'], label='Synthetic')\n",
        "    ax[1].set_ylabel('Volume')\n",
        "    ax[1].legend()\n",
        "\n",
        "    # Plot the ATR\n",
        "    ax[2].plot(df_ticker_original.index, df_ticker_original['ATR'], label='Original')\n",
        "    ax[2].plot(df_ticker_synthetic.index, df_ticker_synthetic['ATR'], label='Synthetic')\n",
        "    ax[2].set_ylabel('ATR')\n",
        "    ax[2].legend()\n",
        "\n",
        "    plt.show()"
      ]
    },
    {
      "cell_type": "code",
      "execution_count": null,
      "id": "6df435c0",
      "metadata": {
        "id": "6df435c0"
      },
      "outputs": [],
      "source": [
        "plot_data_with_ATR(data, synthetic_data, 'AAPL')"
      ]
    },
    {
      "cell_type": "code",
      "execution_count": null,
      "id": "b2ae67c2",
      "metadata": {
        "id": "b2ae67c2"
      },
      "outputs": [],
      "source": [
        "# type='candle', style='yahoo', mav=(5,20), volume=True, addplot=plots, panel_ratios=(3,1,3,3), figscale=1.5"
      ]
    },
    {
      "cell_type": "code",
      "execution_count": null,
      "id": "f2ab2f0f",
      "metadata": {
        "id": "f2ab2f0f"
      },
      "outputs": [],
      "source": [
        "# df_ticker = pd.DataFrame(index=df.index)\n",
        "\n",
        "# for attr in attributes:\n",
        "#     # Find the start column for the specific attribute of the ticker\n",
        "#     start_col = df.columns.get_loc((attr, 'ACGL'))\n",
        "#     print(start_col)\n",
        "\n",
        "#     # Select the data for the specific attribute of the ticker\n",
        "#     df_ticker[attr] = df.iloc[:, start_col]"
      ]
    },
    {
      "cell_type": "code",
      "execution_count": null,
      "id": "ec4c1535",
      "metadata": {
        "id": "ec4c1535"
      },
      "outputs": [],
      "source": []
    },
    {
      "cell_type": "code",
      "execution_count": null,
      "id": "86973800",
      "metadata": {
        "id": "86973800"
      },
      "outputs": [],
      "source": [
        "# start_col"
      ]
    },
    {
      "cell_type": "code",
      "execution_count": null,
      "id": "c9a87096",
      "metadata": {
        "id": "c9a87096"
      },
      "outputs": [],
      "source": [
        "# df_ticker"
      ]
    },
    {
      "cell_type": "code",
      "execution_count": null,
      "id": "0dd0ea3f",
      "metadata": {
        "id": "0dd0ea3f"
      },
      "outputs": [],
      "source": []
    },
    {
      "cell_type": "code",
      "execution_count": null,
      "id": "c711a5b5",
      "metadata": {
        "id": "c711a5b5"
      },
      "outputs": [],
      "source": []
    },
    {
      "cell_type": "code",
      "execution_count": null,
      "id": "2b1f684c",
      "metadata": {
        "id": "2b1f684c"
      },
      "outputs": [],
      "source": []
    }
  ],
  "metadata": {
    "kernelspec": {
      "display_name": "Python 3",
      "language": "python",
      "name": "python3"
    },
    "language_info": {
      "codemirror_mode": {
        "name": "ipython",
        "version": 3
      },
      "file_extension": ".py",
      "mimetype": "text/x-python",
      "name": "python",
      "nbconvert_exporter": "python",
      "pygments_lexer": "ipython3",
      "version": "3.8.5"
    },
    "colab": {
      "provenance": [],
      "include_colab_link": true
    }
  },
  "nbformat": 4,
  "nbformat_minor": 5
}